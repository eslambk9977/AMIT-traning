{
 "cells": [
  {
   "cell_type": "code",
   "execution_count": null,
   "id": "0329108d",
   "metadata": {},
   "outputs": [],
   "source": [
    "#taking from user 2 inputs and then name the first 'x' and the second 'y'"
   ]
  },
  {
   "cell_type": "code",
   "execution_count": 2,
   "id": "e4a08c7f",
   "metadata": {},
   "outputs": [
    {
     "name": "stdout",
     "output_type": "stream",
     "text": [
      "Enter two values: 5.  8\n"
     ]
    }
   ],
   "source": [
    "x, y = input(\"Enter two values: \").split()"
   ]
  },
  {
   "cell_type": "code",
   "execution_count": 10,
   "id": "22daed79",
   "metadata": {},
   "outputs": [
    {
     "name": "stdout",
     "output_type": "stream",
     "text": [
      "first number:  5.\n"
     ]
    }
   ],
   "source": [
    "#print first number the user has enter it \n",
    "print(\"first number: \", x)"
   ]
  },
  {
   "cell_type": "code",
   "execution_count": 9,
   "id": "b157bbe0",
   "metadata": {},
   "outputs": [
    {
     "name": "stdout",
     "output_type": "stream",
     "text": [
      "second Number :  8\n"
     ]
    }
   ],
   "source": [
    "#print first number the user has enter it\n",
    "print(\"second Number : \", y)"
   ]
  },
  {
   "cell_type": "code",
   "execution_count": 12,
   "id": "66890d5e",
   "metadata": {},
   "outputs": [
    {
     "name": "stdout",
     "output_type": "stream",
     "text": [
      "5.8\n"
     ]
    }
   ],
   "source": [
    "print(x+y)"
   ]
  }
 ],
 "metadata": {
  "kernelspec": {
   "display_name": "Python 3 (ipykernel)",
   "language": "python",
   "name": "python3"
  },
  "language_info": {
   "codemirror_mode": {
    "name": "ipython",
    "version": 3
   },
   "file_extension": ".py",
   "mimetype": "text/x-python",
   "name": "python",
   "nbconvert_exporter": "python",
   "pygments_lexer": "ipython3",
   "version": "3.9.12"
  }
 },
 "nbformat": 4,
 "nbformat_minor": 5
}
