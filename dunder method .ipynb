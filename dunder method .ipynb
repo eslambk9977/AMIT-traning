{
 "cells": [
  {
   "cell_type": "code",
   "execution_count": 4,
   "id": "f2b0dfaa",
   "metadata": {},
   "outputs": [],
   "source": [
    "#1st example for dunder methods      __new__() method\n",
    "# in Python the __new__() magic method is implicitly called before the __init__() method. \n",
    "#The __new__() method returns a new object, which is then initialized by __init__().\n",
    "#Example: __new__()\n",
    "class Employee:\n",
    "    def __new__(cls):\n",
    "        print (\"__new__ magic method is called\")\n",
    "        inst = object.__new__(cls)\n",
    "        return inst\n",
    "    def __init__(self):\n",
    "        print (\"__init__ magic method is called\")\n",
    "        self.name='Satya'"
   ]
  },
  {
   "cell_type": "code",
   "execution_count": 5,
   "id": "e10bda69",
   "metadata": {},
   "outputs": [],
   "source": [
    "#2nd example for dunder methods     __str__() method\n",
    "#__str__()methods is overridden to return a printable string representation of any user defined class.\n",
    "#We have seen str() built-in function which returns a string from the object parameter. For example, str(12) returns '12\n",
    "#num=12\n",
    "#str(num)\n",
    "#'12'\n",
    " #This is equivalent to\n",
    "#int.__str__(num)\n",
    "#'12'"
   ]
  },
  {
   "cell_type": "code",
   "execution_count": null,
   "id": "b85e23e3",
   "metadata": {},
   "outputs": [],
   "source": [
    "#the __add__ method is a dunder method which gets called when we add two numbers using the + operator. Consider the following example.\n",
    "#> num=10\n",
    "#>>> num + 5\n",
    "#15\n",
    "#>>> num.__add__(5)\n",
    "#15"
   ]
  },
  {
   "cell_type": "code",
   "execution_count": 8,
   "id": "cd73ccec",
   "metadata": {},
   "outputs": [
    {
     "data": {
      "text/plain": [
       "False"
      ]
     },
     "execution_count": 8,
     "metadata": {},
     "output_type": "execute_result"
    }
   ],
   "source": [
    "#     __ge__() method\n",
    "#the following method is added in the class to overload the >= operator.\n",
    "class distance:\n",
    "    def __init__(self, x=None,y=None):\n",
    "        self.ft=x\n",
    "        self.inch=y\n",
    "    def __ge__(self, x):\n",
    "        val1=self.ft*12+self.inch\n",
    "        val2=x.ft*12+x.inch\n",
    "        if val1>=val2:\n",
    "            return True\n",
    "        else:\n",
    "            return False\n",
    "d1=distance(2,1)\n",
    "d2=distance(4,10)\n",
    "d1>=d2\n",
    "       "
   ]
  },
  {
   "cell_type": "code",
   "execution_count": null,
   "id": "5c043334",
   "metadata": {},
   "outputs": [],
   "source": []
  }
 ],
 "metadata": {
  "kernelspec": {
   "display_name": "Python 3 (ipykernel)",
   "language": "python",
   "name": "python3"
  },
  "language_info": {
   "codemirror_mode": {
    "name": "ipython",
    "version": 3
   },
   "file_extension": ".py",
   "mimetype": "text/x-python",
   "name": "python",
   "nbconvert_exporter": "python",
   "pygments_lexer": "ipython3",
   "version": "3.9.12"
  }
 },
 "nbformat": 4,
 "nbformat_minor": 5
}
