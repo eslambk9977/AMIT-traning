{
 "cells": [
  {
   "cell_type": "markdown",
   "metadata": {},
   "source": [
    "# Assignment 3"
   ]
  },
  {
   "cell_type": "markdown",
   "metadata": {},
   "source": [
    "### Write a function to count the number 4 in a given list."
   ]
  },
  {
   "cell_type": "code",
   "execution_count": 17,
   "metadata": {},
   "outputs": [
    {
     "name": "stdout",
     "output_type": "stream",
     "text": [
      "2\n",
      "3\n"
     ]
    }
   ],
   "source": [
    "def list_count_4(nums):   #the function\n",
    "  count = 0               #make a counter to start from zero\n",
    "  for num in nums:        #for loop to checkall of the list\n",
    "    if num == 4:          #if checks every num in list\n",
    "      count = count + 1   #new value for counter that means we found 4again\n",
    "\n",
    "  return count            #return for\n",
    "\n",
    "print(list_count_4([1, 4, 6, 7, 4]))\n",
    "print(list_count_4([1, 4, 6, 4, 7, 4]))"
   ]
  },
  {
   "cell_type": "markdown",
   "metadata": {},
   "source": [
    "### write a  function to check whether a number is divisible by another number."
   ]
  },
  {
   "cell_type": "code",
   "execution_count": 19,
   "metadata": {},
   "outputs": [
    {
     "name": "stdout",
     "output_type": "stream",
     "text": [
      "True\n",
      "False\n"
     ]
    }
   ],
   "source": [
    "def multiple(x, y):                         #the function\n",
    "\treturn True if x % y == 0 else False    #if the 1st num divisble by the 2nd one print true if not so print false\n",
    "\n",
    "print(multiple(20, 5))                      #try 2 numbers\n",
    "print(multiple(7, 2))"
   ]
  },
  {
   "cell_type": "markdown",
   "metadata": {},
   "source": [
    "### write a function to find the maximum and minimum numbers from a sequence of numbers."
   ]
  },
  {
   "cell_type": "code",
   "execution_count": 21,
   "metadata": {},
   "outputs": [
    {
     "name": "stdout",
     "output_type": "stream",
     "text": [
      "(75, 0)\n"
     ]
    }
   ],
   "source": [
    "def max_min(data):  #the function\n",
    "  l = data[0]       #make a way to check from the first num for max one\n",
    "  s = data[0]       #make a way to check from the first num for min one\n",
    "  for num in data:  #for loop to check one by one for the last num\n",
    "    if num> l:      #if the current num bigger than the last one\n",
    "      l = num       #so but its value in the current num \n",
    "    elif num< s:    #othe if the current num smaller than the last one\n",
    "        s = num     #put its value in s\n",
    "  return l, s       #put the new values in l, s\n",
    "\n",
    "print(max_min([0, 10, 15, 40, 5, 42, 17, 28, 75]))   #print the function result after check this numbers call data\n"
   ]
  },
  {
   "cell_type": "markdown",
   "metadata": {},
   "source": [
    "### Write a Python function that takes two lists and returns True if they have at least one common member."
   ]
  },
  {
   "cell_type": "code",
   "execution_count": 32,
   "metadata": {},
   "outputs": [
    {
     "name": "stdout",
     "output_type": "stream",
     "text": [
      "True\n",
      "None\n"
     ]
    }
   ],
   "source": [
    "def common_data(list1, list2):    #make a function for 2 list\n",
    "     for x in list1:              #for loop to  the 1st list\n",
    "         for y in list2:          #for loop to  the 2nd list\n",
    "             if x == y:           #check every number in list1 with every num with list 2\n",
    "                 result = True    #make result value is true\n",
    "                 return result    #print true \n",
    "print(common_data([1,2,3,4,5], [5,6,7,8,9])) \n",
    "print(common_data([1,2,3,4,5], [6,7,8,9]))"
   ]
  },
  {
   "cell_type": "markdown",
   "metadata": {},
   "source": [
    "### Write a Python function to calculate the factorial of a number (a non-negative integer). The function accepts the number from the user"
   ]
  },
  {
   "cell_type": "code",
   "execution_count": 23,
   "metadata": {},
   "outputs": [
    {
     "name": "stdout",
     "output_type": "stream",
     "text": [
      "Input a number to compute the factiorial : 3\n",
      "6\n"
     ]
    }
   ],
   "source": [
    "def factorial(n):        #function to calc the factorial\n",
    "    if n == 0:           #if n equal zero make it one and check again\n",
    "        return 1\n",
    "    else:                #if not equal 0 mult n with n-1\n",
    "        return n * factorial(n-1)\n",
    "n=int(input(\"Input a number to compute the factiorial : \"))  #let user enter the num he want\n",
    "print(factorial(n))   #print the final result"
   ]
  },
  {
   "cell_type": "markdown",
   "metadata": {},
   "source": [
    "### Write a Python function to check whether a number is in a given range.\n",
    "\n",
    "### The range is from 3 to 11\n"
   ]
  },
  {
   "cell_type": "code",
   "execution_count": 38,
   "metadata": {},
   "outputs": [
    {
     "name": "stdout",
     "output_type": "stream",
     "text": [
      "6   is in the range\n"
     ]
    }
   ],
   "source": [
    "def test_range(n):             #funt test given num if its inside a range or not\n",
    "    if n in range(3,11):       #if n in the range\n",
    "        print(n,\"  is in the range\")   #print n is in the range\n",
    "    else :\n",
    "        print(\"The number is outside the given range.\") #if not print n is not in the range\n",
    "test_range(6)"
   ]
  },
  {
   "cell_type": "markdown",
   "metadata": {},
   "source": [
    "### Write a  program to create the multiplication table (from 1 to 10) of a number."
   ]
  },
  {
   "cell_type": "code",
   "execution_count": 26,
   "metadata": {},
   "outputs": [
    {
     "name": "stdout",
     "output_type": "stream",
     "text": [
      "Input a number: 5\n",
      "5 x 1 = 5\n",
      "5 x 2 = 10\n",
      "5 x 3 = 15\n",
      "5 x 4 = 20\n",
      "5 x 5 = 25\n",
      "5 x 6 = 30\n",
      "5 x 7 = 35\n",
      "5 x 8 = 40\n",
      "5 x 9 = 45\n"
     ]
    }
   ],
   "source": [
    "n = int(input(\"Input a number: \")) #take the input from user\n",
    "\n",
    "# use for loop to iterate 10 times\n",
    "for i in range(1,10):     #for loop to use every number in this range\n",
    "   print(n,'x',i,'=',n*i)  #print this table"
   ]
  },
  {
   "cell_type": "markdown",
   "metadata": {},
   "source": [
    "#### LESSER OF TWO EVENS: Write a function that returns the lesser of two given numbers *if* both numbers are even, but returns the greater if one or both numbers are odd\n",
    "    lesser_of_two_evens(2,4) --> 2\n",
    "    lesser_of_two_evens(2,5) --> 5"
   ]
  },
  {
   "cell_type": "code",
   "execution_count": 40,
   "metadata": {},
   "outputs": [],
   "source": [
    "def lesser_of_two_evens(a,b):    #function to check 2 num if its even\n",
    "    if (a % 2 and b % 2) != 0:   #check 2 num if its not even\n",
    "        if b > a:                #so if first num  bigger print it if 2nd num  bigger print it\n",
    "            print(b)\n",
    "        if a > b:\n",
    "            print(a)    \n",
    "    elif (a % 2 and b % 2) == 0: #check 2 num if its not even\n",
    "        if a < b:                #so if first num  bigger print 2nd if 2nd num  bigger print 1st\n",
    "            print(a)\n",
    "        else:\n",
    "            print(b)    \n",
    "            "
   ]
  },
  {
   "cell_type": "code",
   "execution_count": 31,
   "metadata": {},
   "outputs": [
    {
     "name": "stdout",
     "output_type": "stream",
     "text": [
      "2\n",
      "None\n"
     ]
    }
   ],
   "source": [
    "print(lesser_of_two_evens(2,4))"
   ]
  },
  {
   "cell_type": "code",
   "execution_count": 39,
   "metadata": {},
   "outputs": [
    {
     "name": "stdout",
     "output_type": "stream",
     "text": [
      "2\n"
     ]
    }
   ],
   "source": [
    "lesser_of_two_evens(2,5)"
   ]
  },
  {
   "cell_type": "code",
   "execution_count": null,
   "metadata": {},
   "outputs": [],
   "source": []
  }
 ],
 "metadata": {
  "kernelspec": {
   "display_name": "Python 3 (ipykernel)",
   "language": "python",
   "name": "python3"
  },
  "language_info": {
   "codemirror_mode": {
    "name": "ipython",
    "version": 3
   },
   "file_extension": ".py",
   "mimetype": "text/x-python",
   "name": "python",
   "nbconvert_exporter": "python",
   "pygments_lexer": "ipython3",
   "version": "3.9.12"
  }
 },
 "nbformat": 4,
 "nbformat_minor": 2
}
