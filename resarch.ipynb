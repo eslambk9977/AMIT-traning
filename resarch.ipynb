{
 "cells": [
  {
   "cell_type": "code",
   "execution_count": 2,
   "id": "06b23216",
   "metadata": {},
   "outputs": [
    {
     "name": "stdout",
     "output_type": "stream",
     "text": [
      "first == eslam \n",
      "mid == belal\n",
      "last == kamel\n"
     ]
    }
   ],
   "source": [
    "myFun=('Hello', 'from', 'other', 'side')\n",
    "#Python program to illustrate *kwargs for a variable number of keyword arguments.\n",
    "\n",
    "def myFun(**kwargs):\n",
    "    for key, value in kwargs.items():\n",
    "        print(\"%s == %s\" % (key, value))\n",
    "\n",
    "\n",
    "# Driver code\n",
    "myFun(first='eslam ', mid='belal', last='kamel')"
   ]
  },
  {
   "cell_type": "code",
   "execution_count": 4,
   "id": "183909b9",
   "metadata": {},
   "outputs": [],
   "source": [
    "#A class is an example of encapsulation as it encapsulates all the data that is member functions, variables, etc.\n",
    "# Python program to\n",
    "# demonstrate protected members\n",
    "\n",
    "# Creating a base class\n",
    "class Base:\n",
    "   def __init__(self):\n",
    "\n",
    "# Protected member\n",
    "        self._a = 2"
   ]
  },
  {
   "cell_type": "code",
   "execution_count": 5,
   "id": "bfebb761",
   "metadata": {},
   "outputs": [
    {
     "name": "stdout",
     "output_type": "stream",
     "text": [
      "Calling protected member of base class:  2\n",
      "Calling modified protected member outside class:  3\n"
     ]
    }
   ],
   "source": [
    "# Creating a derived class\n",
    "class Derived(Base):\n",
    "   def __init__(self):\n",
    "\n",
    "# Calling constructor of\n",
    "# Base class\n",
    "        Base.__init__(self)\n",
    "        print(\"Calling protected member of base class: \",\n",
    "           self._a)\n",
    "\n",
    "# Modify the protected variable:\n",
    "        self._a = 3\n",
    "        print(\"Calling modified protected member outside class: \",\n",
    "          self._a)\n",
    "\n",
    "\n",
    "obj1 = Derived()\n",
    "\n",
    "obj2 = Base()"
   ]
  },
  {
   "cell_type": "code",
   "execution_count": 7,
   "id": "fb9eb23a",
   "metadata": {},
   "outputs": [
    {
     "name": "stdout",
     "output_type": "stream",
     "text": [
      "welcome to ammit\n"
     ]
    }
   ],
   "source": [
    "# Creating a Base class\n",
    "\n",
    "\n",
    "\n",
    "\n",
    "class Base:\n",
    "    def __init__(self):\n",
    "        self.a = \"welcome to ammit\"\n",
    "        self.__c = \"welcome to ammit\"\n",
    "\n",
    "# Creating a derived class\n",
    "class Derived(Base):\n",
    "    def __init__(self):\n",
    "\n",
    "# Calling constructor of\n",
    "# Base class\n",
    "        Base.__init__(self)\n",
    "        print(\"Calling private member of base class: \")\n",
    "        print(self.__c)\n",
    "\n",
    "\n",
    "# Driver code\n",
    "obj1 = Base()\n",
    "print(obj1.a)\n"
   ]
  },
  {
   "cell_type": "code",
   "execution_count": null,
   "id": "cc8f0780",
   "metadata": {},
   "outputs": [],
   "source": []
  }
 ],
 "metadata": {
  "kernelspec": {
   "display_name": "Python 3 (ipykernel)",
   "language": "python",
   "name": "python3"
  },
  "language_info": {
   "codemirror_mode": {
    "name": "ipython",
    "version": 3
   },
   "file_extension": ".py",
   "mimetype": "text/x-python",
   "name": "python",
   "nbconvert_exporter": "python",
   "pygments_lexer": "ipython3",
   "version": "3.9.12"
  }
 },
 "nbformat": 4,
 "nbformat_minor": 5
}
